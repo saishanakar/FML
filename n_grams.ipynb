{
  "nbformat": 4,
  "nbformat_minor": 0,
  "metadata": {
    "colab": {
      "provenance": [],
      "authorship_tag": "ABX9TyOsFEl5D6yzHtXol3ke2TeE",
      "include_colab_link": true
    },
    "kernelspec": {
      "name": "python3",
      "display_name": "Python 3"
    },
    "language_info": {
      "name": "python"
    }
  },
  "cells": [
    {
      "cell_type": "markdown",
      "metadata": {
        "id": "view-in-github",
        "colab_type": "text"
      },
      "source": [
        "<a href=\"https://colab.research.google.com/github/saishanakar/FML/blob/main/n_grams.ipynb\" target=\"_parent\"><img src=\"https://colab.research.google.com/assets/colab-badge.svg\" alt=\"Open In Colab\"/></a>"
      ]
    },
    {
      "cell_type": "code",
      "source": [
        "from nltk.corpus import reuters\n",
        "from nltk import bigrams,trigrams\n",
        "from collections import Counter,defaultdict"
      ],
      "metadata": {
        "id": "4c_UoWYFXG0q"
      },
      "execution_count": 8,
      "outputs": []
    },
    {
      "cell_type": "code",
      "source": [
        "model=defaultdict(lambda:defaultdict(lambda:0))\n",
        "import nltk\n",
        "nltk.download('reuters')\n",
        "import nltk\n",
        "nltk.download('punkt')"
      ],
      "metadata": {
        "colab": {
          "base_uri": "https://localhost:8080/"
        },
        "id": "FmMkdRYkfVGg",
        "outputId": "3be98c8c-0763-4e2f-94d0-137688472f81"
      },
      "execution_count": 15,
      "outputs": [
        {
          "output_type": "stream",
          "name": "stderr",
          "text": [
            "[nltk_data] Downloading package reuters to /root/nltk_data...\n",
            "[nltk_data]   Package reuters is already up-to-date!\n",
            "[nltk_data] Downloading package punkt to /root/nltk_data...\n",
            "[nltk_data]   Unzipping tokenizers/punkt.zip.\n"
          ]
        },
        {
          "output_type": "execute_result",
          "data": {
            "text/plain": [
              "True"
            ]
          },
          "metadata": {},
          "execution_count": 15
        }
      ]
    },
    {
      "cell_type": "code",
      "source": [
        "for sentence in reuters.sents():\n",
        "  for w1,w2,w3 in trigrams(sentence,pad_right=True,pad_left=True):\n",
        "    model[(w1,w2)][w3]+=1\n",
        "for w1_w2 in model:\n",
        "    total_count=float(sum(model[w1_w2].values()))\n",
        "    for w3 in model[w1_w2]:\n",
        "      model[w1_w2][w3]/=total_count\n",
        "dict(model['the','first'])"
      ],
      "metadata": {
        "colab": {
          "base_uri": "https://localhost:8080/"
        },
        "id": "Dxhxipcqfqsl",
        "outputId": "596f9b63-b385-42ed-ff7e-28ef98d822f2"
      },
      "execution_count": 20,
      "outputs": [
        {
          "output_type": "execute_result",
          "data": {
            "text/plain": [
              "{'half': 0.0876543209876549,\n",
              " 'quarter': 0.30246913580247115,\n",
              " 'six': 0.01234567901234576,\n",
              " 'three': 0.05185185185185219,\n",
              " 'time': 0.09876543209876608,\n",
              " 'single': 0.0012345679012345761,\n",
              " 'few': 0.00617283950617288,\n",
              " 'in': 0.0024691358024691522,\n",
              " 'seven': 0.00617283950617288,\n",
              " 'two': 0.07160493827160541,\n",
              " 'qtr': 0.0012345679012345761,\n",
              " 'ten': 0.0012345679012345761,\n",
              " 'week': 0.014814814814814914,\n",
              " 'four': 0.02098765432098779,\n",
              " 'economic': 0.0012345679012345761,\n",
              " '1986': 0.0012345679012345761,\n",
              " 'port': 0.0012345679012345761,\n",
              " 'step': 0.011111111111111184,\n",
              " '10': 0.013580246913580337,\n",
              " 'prime': 0.0024691358024691522,\n",
              " 'phase': 0.0049382716049383045,\n",
              " 'figure': 0.0012345679012345761,\n",
              " 'year': 0.009876543209876609,\n",
              " 'leg': 0.0012345679012345761,\n",
              " 'five': 0.023456790123456944,\n",
              " 'successful': 0.0012345679012345761,\n",
              " 'field': 0.0012345679012345761,\n",
              " 'victim': 0.0012345679012345761,\n",
              " 'nine': 0.0308641975308644,\n",
              " 'and': 0.007407407407407455,\n",
              " '1987': 0.0012345679012345761,\n",
              " 'suspension': 0.0012345679012345761,\n",
              " '.': 0.0024691358024691522,\n",
              " 'transaction': 0.0024691358024691522,\n",
              " 'quarters': 0.0012345679012345761,\n",
              " 'to': 0.007407407407407455,\n",
              " 'complete': 0.0012345679012345761,\n",
              " 'of': 0.011111111111111184,\n",
              " 'it': 0.0012345679012345761,\n",
              " 'inspection': 0.0012345679012345761,\n",
              " 'tariff': 0.0012345679012345761,\n",
              " 'estimates': 0.0012345679012345761,\n",
              " 'formal': 0.0012345679012345761,\n",
              " 'well': 0.0024691358024691522,\n",
              " 'reported': 0.0012345679012345761,\n",
              " 'eight': 0.007407407407407455,\n",
              " 'platform': 0.0024691358024691522,\n",
              " 'rig': 0.0012345679012345761,\n",
              " 'place': 0.0024691358024691522,\n",
              " 'hit': 0.0012345679012345761,\n",
              " 'official': 0.00617283950617288,\n",
              " 'Saudi': 0.0012345679012345761,\n",
              " 'drop': 0.0037037037037037286,\n",
              " '50': 0.0024691358024691522,\n",
              " 'move': 0.0012345679012345761,\n",
              " 'drill': 0.0037037037037037286,\n",
              " 'hour': 0.0012345679012345761,\n",
              " 'dividend': 0.0024691358024691522,\n",
              " '29': 0.0012345679012345761,\n",
              " 'shot': 0.0012345679012345761,\n",
              " 'ship': 0.0012345679012345761,\n",
              " 'high': 0.0037037037037037286,\n",
              " 'report': 0.0012345679012345761,\n",
              " 'months': 0.0024691358024691522,\n",
              " '30': 0.0024691358024691522,\n",
              " 'corn': 0.0024691358024691522,\n",
              " 'change': 0.0049382716049383045,\n",
              " 'such': 0.0037037037037037286,\n",
              " '25': 0.0012345679012345761,\n",
              " '-': 0.0024691358024691522,\n",
              " 'standard': 0.0012345679012345761,\n",
              " 'recurrence': 0.0012345679012345761,\n",
              " 'part': 0.0012345679012345761,\n",
              " 'agreement': 0.0024691358024691522,\n",
              " 'ever': 0.0012345679012345761,\n",
              " 'days': 0.0012345679012345761,\n",
              " '15': 0.0012345679012345761,\n",
              " 'foreign': 0.0012345679012345761,\n",
              " 'sales': 0.0012345679012345761,\n",
              " 'barges': 0.0012345679012345761,\n",
              " '20': 0.0037037037037037286,\n",
              " 'day': 0.0037037037037037286,\n",
              " 'national': 0.0037037037037037286,\n",
              " 'section': 0.0012345679012345761,\n",
              " 'issue': 0.0012345679012345761,\n",
              " 'entry': 0.0012345679012345761,\n",
              " '11': 0.00617283950617288,\n",
              " 'surplus': 0.0012345679012345761,\n",
              " 'March': 0.0012345679012345761,\n",
              " 'fiscal': 0.0012345679012345761,\n",
              " 'liberalised': 0.0012345679012345761,\n",
              " 'quartrer': 0.0012345679012345761,\n",
              " 'country': 0.0012345679012345761,\n",
              " 'suppliers': 0.0024691358024691522,\n",
              " 'stage': 0.00617283950617288,\n",
              " 'major': 0.0012345679012345761,\n",
              " 'reorganization': 0.0012345679012345761,\n",
              " 'estimate': 0.0012345679012345761,\n",
              " 'payment': 0.0012345679012345761,\n",
              " 'oil': 0.0037037037037037286,\n",
              " 'hard': 0.0012345679012345761,\n",
              " 'acquisitions': 0.0012345679012345761,\n",
              " 'monthly': 0.0012345679012345761,\n",
              " '16': 0.0012345679012345761,\n",
              " 'decline': 0.0024691358024691522,\n",
              " 'under': 0.0012345679012345761,\n",
              " 'rise': 0.0012345679012345761,\n",
              " 'one': 0.0012345679012345761,\n",
              " 'offer': 0.0012345679012345761,\n",
              " 'weeks': 0.0012345679012345761,\n",
              " ',': 0.0012345679012345761,\n",
              " 'encouraging': 0.0012345679012345761,\n",
              " 'tranche': 0.0012345679012345761,\n",
              " '250': 0.0012345679012345761,\n",
              " '350': 0.0012345679012345761,\n",
              " 'strike': 0.0012345679012345761,\n",
              " 'instance': 0.0012345679012345761,\n",
              " 'fall': 0.0012345679012345761,\n",
              " 'session': 0.0024691358024691522,\n",
              " 'month': 0.0012345679012345761,\n",
              " 'increase': 0.0012345679012345761,\n",
              " 'Japanese': 0.0024691358024691522,\n",
              " 'serious': 0.0012345679012345761,\n",
              " 'tentative': 0.0012345679012345761,\n",
              " 'shipment': 0.0012345679012345761,\n",
              " 'methanol': 0.0012345679012345761,\n",
              " '200': 0.0012345679012345761,\n",
              " 'full': 0.0012345679012345761,\n",
              " 'test': 0.0012345679012345761,\n",
              " 'criteria': 0.0012345679012345761,\n",
              " '78': 0.0012345679012345761,\n",
              " 'hesitant': 0.0012345679012345761,\n",
              " '24': 0.0012345679012345761}"
            ]
          },
          "metadata": {},
          "execution_count": 20
        }
      ]
    },
    {
      "cell_type": "code",
      "source": [],
      "metadata": {
        "id": "JKQOrMkSJitG"
      },
      "execution_count": null,
      "outputs": []
    }
  ]
}